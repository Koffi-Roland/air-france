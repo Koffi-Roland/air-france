{
 "cells": [
  {
   "cell_type": "markdown",
   "metadata": {},
   "source": [
    "### OBJECTIVE:\n",
    "#### - Number of individuals with RI DB PRODUCTION, who have FB or MyA contract and have payment preferences: grouped by: paymentGroupCode/paymentGroupName"
   ]
  },
  {
   "cell_type": "markdown",
   "metadata": {},
   "source": [
    "##### 1- imports section"
   ]
  },
  {
   "cell_type": "code",
   "execution_count": 1,
   "metadata": {},
   "outputs": [
    {
     "name": "stderr",
     "output_type": "stream",
     "text": [
      "C:\\Users\\t356726\\AppData\\Local\\Temp\\ipykernel_23232\\2027920682.py:1: DeprecationWarning: \n",
      "Pyarrow will become a required dependency of pandas in the next major release of pandas (pandas 3.0),\n",
      "(to allow more performant data types, such as the Arrow string type, and better interoperability with other libraries)\n",
      "but was not found to be installed on your system.\n",
      "If this would cause problems for you,\n",
      "please provide us feedback at https://github.com/pandas-dev/pandas/issues/54466\n",
      "        \n",
      "  import pandas as pd\n"
     ]
    }
   ],
   "source": [
    "import pandas as pd\n",
    "from pyspark.sql import SparkSession\n",
    "from pyspark.context import SparkContext\n",
    "from pyspark.sql.functions import *\n",
    "from pyspark.sql.types import *\n",
    "from datetime import date, timedelta, datetime\n",
    "import time"
   ]
  },
  {
   "cell_type": "code",
   "execution_count": 2,
   "metadata": {},
   "outputs": [],
   "source": [
    "#Initialization of a Spark Session\n",
    "sc = SparkSession.builder.appName(\"PySparkThiernoPP\")\\\n",
    "    .config (\"spark.sql.shuffle.partitions\", \"50\") \\\n",
    "    .config(\"spark.driver.maxResultSize\",\"10g\") \\\n",
    "    .config (\"spark.sql.execution.arrow.enabled\", \"true\")\\\n",
    "    .getOrCreate()"
   ]
  },
  {
   "cell_type": "markdown",
   "metadata": {},
   "source": [
    "##### 2- import CSV Input files"
   ]
  },
  {
   "cell_type": "code",
   "execution_count": 3,
   "metadata": {},
   "outputs": [],
   "source": [
    "#CSV FILES\n",
    "df_roleContrats = sc.read.options(header=True).csv(\"C:\\\\Users\\\\t356726\\\\Desktop\\\\extracts\\\\PRD\\\\extract_role_contrat_PRD2.csv\")\n",
    "df_repindPP = sc.read.options(header=True).csv('C:\\\\Users\\\\t356726\\\\Desktop\\\\extracts\\\\PRD\\\\export_repind_pp.csv')"
   ]
  },
  {
   "cell_type": "code",
   "execution_count": 4,
   "metadata": {},
   "outputs": [
    {
     "name": "stdout",
     "output_type": "stream",
     "text": [
      "total repind_PP export : 8236357\n",
      "total role_contracts export : 25338740\n"
     ]
    }
   ],
   "source": [
    "print( \"total repind_PP export : \" + str(df_repindPP.count()) )\n",
    "print( \"total role_contracts export : \" + str(df_roleContrats.count()) )"
   ]
  },
  {
   "cell_type": "code",
   "execution_count": 5,
   "metadata": {},
   "outputs": [
    {
     "name": "stdout",
     "output_type": "stream",
     "text": [
      "+------------+------------+-------------+\n",
      "|         GIN|PAYMENTGROUP|PAYMENTMETHOD|\n",
      "+------------+------------+-------------+\n",
      "|400319584754|          CC|           MC|\n",
      "|400403812781|          CC|       FBAMEX|\n",
      "|400288531262|          CC|         VISA|\n",
      "|400502390443|          CC|         VISA|\n",
      "|800015313951|          DC|        MC_DC|\n",
      "+------------+------------+-------------+\n",
      "only showing top 5 rows\n",
      "\n",
      "+------------+\n",
      "|        SGIN|\n",
      "+------------+\n",
      "|400783008016|\n",
      "|400403877100|\n",
      "|400591432440|\n",
      "|400000217056|\n",
      "|400702581796|\n",
      "+------------+\n",
      "only showing top 5 rows\n",
      "\n"
     ]
    }
   ],
   "source": [
    "df_repindPP.show(5)\n",
    "df_roleContrats.show(5)"
   ]
  },
  {
   "cell_type": "markdown",
   "metadata": {},
   "source": [
    "##### 3- merge both csv files REPIND_PP && ROLE_CONTRATS"
   ]
  },
  {
   "cell_type": "code",
   "execution_count": 6,
   "metadata": {},
   "outputs": [
    {
     "name": "stdout",
     "output_type": "stream",
     "text": [
      "+------------+------------+-------------+\n",
      "|         GIN|PAYMENTGROUP|PAYMENTMETHOD|\n",
      "+------------+------------+-------------+\n",
      "|000000002563|          CC|         VISA|\n",
      "|000000003565|          CC|         VISA|\n",
      "|000000003720|          CC|         VISA|\n",
      "|000000003720|          CC|         VISA|\n",
      "|000000003720|          CC|         VISA|\n",
      "|000000003720|          CC|         VISA|\n",
      "|000000013015|          CC|           MC|\n",
      "|000000013015|          CC|         VISA|\n",
      "|000000017860|          CC|       FBAMEX|\n",
      "|000000017963|          CC|         VISA|\n",
      "+------------+------------+-------------+\n",
      "only showing top 10 rows\n",
      "\n"
     ]
    }
   ],
   "source": [
    "joined_df = df_roleContrats.join(df_repindPP, df_roleContrats.SGIN == df_repindPP.GIN, \"inner\")\\\n",
    "                            .select(\"GIN\", \"PAYMENTGROUP\", \"PAYMENTMETHOD\")\n",
    "joined_df.show(10)"
   ]
  },
  {
   "cell_type": "markdown",
   "metadata": {},
   "source": [
    "##### 4- Group results by \"PAYMENTGROUP\" and \"PAYMENTMETHOD\""
   ]
  },
  {
   "cell_type": "code",
   "execution_count": 10,
   "metadata": {},
   "outputs": [],
   "source": [
    "sorted_grouped_df = joined_df.groupBy(\"PAYMENTGROUP\", \"PAYMENTMETHOD\")\\\n",
    "                        .count() \\\n",
    "                        .sort(\"PAYMENTGROUP\")\n"
   ]
  },
  {
   "cell_type": "code",
   "execution_count": 11,
   "metadata": {},
   "outputs": [
    {
     "name": "stdout",
     "output_type": "stream",
     "text": [
      "+------------+-------------+-------+\n",
      "|PAYMENTGROUP|PAYMENTMETHOD|  count|\n",
      "+------------+-------------+-------+\n",
      "|          BT|           BT|  55957|\n",
      "|          CC|       CBC-MC|   2499|\n",
      "|          CC|         AMEX| 894408|\n",
      "|          CC|         UATP|    429|\n",
      "|          CC|         VISA|2977437|\n",
      "+------------+-------------+-------+\n",
      "only showing top 5 rows\n",
      "\n"
     ]
    }
   ],
   "source": [
    "sorted_grouped_df.show(5)"
   ]
  },
  {
   "cell_type": "markdown",
   "metadata": {},
   "source": [
    "##### 5- Create new Table to retrieve total count by PAYMENTGROUP and PAYMENTMETHOD"
   ]
  },
  {
   "cell_type": "code",
   "execution_count": 16,
   "metadata": {},
   "outputs": [
    {
     "name": "stdout",
     "output_type": "stream",
     "text": [
      "+------------+-------------+-----------+\n",
      "|PAYMENTGROUP|PAYMENTMETHOD|TOTAL_COUNT|\n",
      "+------------+-------------+-----------+\n",
      "|         OLB|    CELLULANT|         13|\n",
      "|         OLB|        ENETS|       1006|\n",
      "|     EWALLET|       ALIPAY|        611|\n",
      "|          CC|         VISA|    3701073|\n",
      "|          CC|   IDEAL_RABO|          3|\n",
      "+------------+-------------+-----------+\n",
      "only showing top 5 rows\n",
      "\n"
     ]
    }
   ],
   "source": [
    "df_repindPP_count = df_repindPP.groupBy(\"PAYMENTGROUP\", \"PAYMENTMETHOD\").count()\n",
    "df_repindPP_count = df_repindPP_count.withColumnRenamed(\"count\", \"TOTAL_COUNT\")\n",
    "df_repindPP_count.show(5)"
   ]
  },
  {
   "cell_type": "markdown",
   "metadata": {},
   "source": [
    "##### 6- Reapply merge between both tables "
   ]
  },
  {
   "cell_type": "code",
   "execution_count": 15,
   "metadata": {},
   "outputs": [
    {
     "name": "stdout",
     "output_type": "stream",
     "text": [
      "+------------+----------------+-----------+-------+\n",
      "|PAYMENTGROUP|   PAYMENTMETHOD|TOTAL_COUNT|  count|\n",
      "+------------+----------------+-----------+-------+\n",
      "|         OLB|       CELLULANT|         13|     13|\n",
      "|         OLB|           ENETS|       1006|    560|\n",
      "|     EWALLET|          ALIPAY|        611|    598|\n",
      "|          LB|AW_CAB_ARUBABANK|         60|     57|\n",
      "|          CC|            VISA|    3701073|2977437|\n",
      "+------------+----------------+-----------+-------+\n",
      "only showing top 5 rows\n",
      "\n"
     ]
    }
   ],
   "source": [
    "final_result = sorted_grouped_df.join(df_repindPP_count, [\"PAYMENTGROUP\",\"PAYMENTMETHOD\"] , \"inner\")\\\n",
    "                            .select(\"PAYMENTGROUP\",\"PAYMENTMETHOD\",\"TOTAL_COUNT\",\"count\")\n",
    "final_result.show(5)"
   ]
  },
  {
   "cell_type": "markdown",
   "metadata": {},
   "source": [
    "#### NB:\n",
    "- export table to txt didn't work for me, so i just printed all lines of result table (~80 lines) and then send report by email. "
   ]
  }
 ],
 "metadata": {
  "kernelspec": {
   "display_name": "Python 3",
   "language": "python",
   "name": "python3"
  },
  "language_info": {
   "codemirror_mode": {
    "name": "ipython",
    "version": 3
   },
   "file_extension": ".py",
   "mimetype": "text/x-python",
   "name": "python",
   "nbconvert_exporter": "python",
   "pygments_lexer": "ipython3",
   "version": "3.12.0"
  }
 },
 "nbformat": 4,
 "nbformat_minor": 2
}
